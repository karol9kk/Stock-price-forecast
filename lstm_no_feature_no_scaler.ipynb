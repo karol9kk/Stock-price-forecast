{
 "cells": [
  {
   "cell_type": "code",
   "execution_count": 16,
   "metadata": {},
   "outputs": [],
   "source": [
    "from feature_engineering import generate_features\n",
    "from get_data import get_raw_data\n",
    "import pandas as pd\n",
    "from feature_engineering import get_sp_500_data"
   ]
  },
  {
   "cell_type": "code",
   "execution_count": 17,
   "metadata": {},
   "outputs": [
    {
     "name": "stdout",
     "output_type": "stream",
     "text": [
      "TensorFlow version:  2.15.0\n"
     ]
    }
   ],
   "source": [
    "from datetime import datetime\n",
    "from packaging import version\n",
    "import tensorflow as tf\n",
    "\n",
    "from tensorflow import keras\n",
    "from keras import backend as K\n",
    "\n",
    "\n",
    "\n",
    "print(\"TensorFlow version: \", tf.__version__)\n",
    "assert version.parse(tf.__version__).release[0] >= 2, \\\n",
    "    \"This notebook requires TensorFlow 2.0 or above.\"\n"
   ]
  },
  {
   "cell_type": "code",
   "execution_count": 18,
   "metadata": {},
   "outputs": [
    {
     "name": "stderr",
     "output_type": "stream",
     "text": [
      "[*********************100%%**********************]  1 of 1 completed\n"
     ]
    }
   ],
   "source": [
    "\n",
    "from feature_engineering import add_original_feature_return\n",
    "\n",
    "\n",
    "data=pd.DataFrame()\n",
    "data=add_original_feature_return(get_raw_data('TSLA'),data)\n",
    "\n",
    "data=data.dropna()"
   ]
  },
  {
   "cell_type": "code",
   "execution_count": 19,
   "metadata": {},
   "outputs": [
    {
     "data": {
      "text/html": [
       "<div>\n",
       "<style scoped>\n",
       "    .dataframe tbody tr th:only-of-type {\n",
       "        vertical-align: middle;\n",
       "    }\n",
       "\n",
       "    .dataframe tbody tr th {\n",
       "        vertical-align: top;\n",
       "    }\n",
       "\n",
       "    .dataframe thead th {\n",
       "        text-align: right;\n",
       "    }\n",
       "</style>\n",
       "<table border=\"1\" class=\"dataframe\">\n",
       "  <thead>\n",
       "    <tr style=\"text-align: right;\">\n",
       "      <th></th>\n",
       "      <th>open</th>\n",
       "      <th>open_1</th>\n",
       "      <th>close</th>\n",
       "      <th>high_1</th>\n",
       "      <th>low_1</th>\n",
       "      <th>volume_1</th>\n",
       "    </tr>\n",
       "    <tr>\n",
       "      <th>Date</th>\n",
       "      <th></th>\n",
       "      <th></th>\n",
       "      <th></th>\n",
       "      <th></th>\n",
       "      <th></th>\n",
       "      <th></th>\n",
       "    </tr>\n",
       "  </thead>\n",
       "  <tbody>\n",
       "    <tr>\n",
       "      <th>2019-09-11</th>\n",
       "      <td>15.825333</td>\n",
       "      <td>15.386667</td>\n",
       "      <td>15.702667</td>\n",
       "      <td>15.702667</td>\n",
       "      <td>15.262667</td>\n",
       "      <td>73255500.0</td>\n",
       "    </tr>\n",
       "    <tr>\n",
       "      <th>2019-09-12</th>\n",
       "      <td>16.513332</td>\n",
       "      <td>15.825333</td>\n",
       "      <td>16.473333</td>\n",
       "      <td>16.544666</td>\n",
       "      <td>15.733333</td>\n",
       "      <td>150642000.0</td>\n",
       "    </tr>\n",
       "    <tr>\n",
       "      <th>2019-09-13</th>\n",
       "      <td>16.464001</td>\n",
       "      <td>16.513332</td>\n",
       "      <td>16.391333</td>\n",
       "      <td>16.900000</td>\n",
       "      <td>16.293333</td>\n",
       "      <td>128718000.0</td>\n",
       "    </tr>\n",
       "    <tr>\n",
       "      <th>2019-09-16</th>\n",
       "      <td>16.400000</td>\n",
       "      <td>16.464001</td>\n",
       "      <td>16.346666</td>\n",
       "      <td>16.563334</td>\n",
       "      <td>16.324667</td>\n",
       "      <td>79696500.0</td>\n",
       "    </tr>\n",
       "    <tr>\n",
       "      <th>2019-09-17</th>\n",
       "      <td>16.164667</td>\n",
       "      <td>16.400000</td>\n",
       "      <td>16.187332</td>\n",
       "      <td>16.495333</td>\n",
       "      <td>16.077999</td>\n",
       "      <td>70921500.0</td>\n",
       "    </tr>\n",
       "    <tr>\n",
       "      <th>...</th>\n",
       "      <td>...</td>\n",
       "      <td>...</td>\n",
       "      <td>...</td>\n",
       "      <td>...</td>\n",
       "      <td>...</td>\n",
       "      <td>...</td>\n",
       "    </tr>\n",
       "    <tr>\n",
       "      <th>2024-04-17</th>\n",
       "      <td>157.639999</td>\n",
       "      <td>156.740005</td>\n",
       "      <td>157.110001</td>\n",
       "      <td>158.190002</td>\n",
       "      <td>153.750000</td>\n",
       "      <td>97000000.0</td>\n",
       "    </tr>\n",
       "    <tr>\n",
       "      <th>2024-04-18</th>\n",
       "      <td>151.250000</td>\n",
       "      <td>157.639999</td>\n",
       "      <td>155.449997</td>\n",
       "      <td>158.330002</td>\n",
       "      <td>153.779999</td>\n",
       "      <td>82439700.0</td>\n",
       "    </tr>\n",
       "    <tr>\n",
       "      <th>2024-04-19</th>\n",
       "      <td>148.970001</td>\n",
       "      <td>151.250000</td>\n",
       "      <td>149.929993</td>\n",
       "      <td>152.199997</td>\n",
       "      <td>148.699997</td>\n",
       "      <td>96098800.0</td>\n",
       "    </tr>\n",
       "    <tr>\n",
       "      <th>2024-04-22</th>\n",
       "      <td>140.559998</td>\n",
       "      <td>148.970001</td>\n",
       "      <td>147.050003</td>\n",
       "      <td>150.940002</td>\n",
       "      <td>146.220001</td>\n",
       "      <td>86005100.0</td>\n",
       "    </tr>\n",
       "    <tr>\n",
       "      <th>2024-04-23</th>\n",
       "      <td>143.330002</td>\n",
       "      <td>140.559998</td>\n",
       "      <td>142.050003</td>\n",
       "      <td>144.440002</td>\n",
       "      <td>138.800003</td>\n",
       "      <td>107097600.0</td>\n",
       "    </tr>\n",
       "  </tbody>\n",
       "</table>\n",
       "<p>1162 rows × 6 columns</p>\n",
       "</div>"
      ],
      "text/plain": [
       "                  open      open_1       close      high_1       low_1  \\\n",
       "Date                                                                     \n",
       "2019-09-11   15.825333   15.386667   15.702667   15.702667   15.262667   \n",
       "2019-09-12   16.513332   15.825333   16.473333   16.544666   15.733333   \n",
       "2019-09-13   16.464001   16.513332   16.391333   16.900000   16.293333   \n",
       "2019-09-16   16.400000   16.464001   16.346666   16.563334   16.324667   \n",
       "2019-09-17   16.164667   16.400000   16.187332   16.495333   16.077999   \n",
       "...                ...         ...         ...         ...         ...   \n",
       "2024-04-17  157.639999  156.740005  157.110001  158.190002  153.750000   \n",
       "2024-04-18  151.250000  157.639999  155.449997  158.330002  153.779999   \n",
       "2024-04-19  148.970001  151.250000  149.929993  152.199997  148.699997   \n",
       "2024-04-22  140.559998  148.970001  147.050003  150.940002  146.220001   \n",
       "2024-04-23  143.330002  140.559998  142.050003  144.440002  138.800003   \n",
       "\n",
       "               volume_1  \n",
       "Date                     \n",
       "2019-09-11   73255500.0  \n",
       "2019-09-12  150642000.0  \n",
       "2019-09-13  128718000.0  \n",
       "2019-09-16   79696500.0  \n",
       "2019-09-17   70921500.0  \n",
       "...                 ...  \n",
       "2024-04-17   97000000.0  \n",
       "2024-04-18   82439700.0  \n",
       "2024-04-19   96098800.0  \n",
       "2024-04-22   86005100.0  \n",
       "2024-04-23  107097600.0  \n",
       "\n",
       "[1162 rows x 6 columns]"
      ]
     },
     "execution_count": 19,
     "metadata": {},
     "output_type": "execute_result"
    }
   ],
   "source": [
    "data.head(-10)\n"
   ]
  },
  {
   "cell_type": "code",
   "execution_count": 20,
   "metadata": {},
   "outputs": [
    {
     "data": {
      "text/plain": [
       "(1172, 6)"
      ]
     },
     "execution_count": 20,
     "metadata": {},
     "output_type": "execute_result"
    }
   ],
   "source": [
    "data.shape"
   ]
  },
  {
   "cell_type": "code",
   "execution_count": 21,
   "metadata": {},
   "outputs": [],
   "source": [
    "import tensorflow as tf\n",
    "from tensorflow import keras\n",
    "import numpy as np\n",
    "from keras.models import Sequential\n",
    "from keras.layers import  LSTM, Dense,Dropout\n"
   ]
  },
  {
   "cell_type": "code",
   "execution_count": 22,
   "metadata": {},
   "outputs": [],
   "source": [
    "# here we are seperating the data \n",
    "trainning_set = data[:'2024-03-01'].iloc[:,1:2].values\n",
    "test_set = data['2024-03-01':].iloc[:,1:2].values\n",
    "\n",
    "from sklearn.preprocessing import MinMaxScaler\n",
    "scaler = MinMaxScaler(feature_range=(0, 1))\n",
    "training_set_scaled = trainning_set\n",
    "\n",
    "\n",
    "X_train = []\n",
    "Y_train = []\n",
    "\n",
    "\n",
    "for i in range(1, len(training_set_scaled)):\n",
    "    X_train.append(training_set_scaled[i-1:i, 0])\n",
    "    Y_train.append(training_set_scaled[i, 0])\n",
    "\n",
    "X_train = X_train[-621:] # same size of data neeeded\n",
    "Y_train = Y_train[-621:] # same size of data neeeded\n",
    "\n",
    "# Convert lists to NumPy arrays\n",
    "X_train, y_train = np.array(X_train), np.array(Y_train)\n",
    "\n",
    "# Reshape X_train for LSTM input shape (batch_size, timesteps, input_dim)\n",
    "X_train = np.reshape(X_train, (X_train.shape[0], X_train.shape[1], 1))\n"
   ]
  },
  {
   "cell_type": "code",
   "execution_count": 23,
   "metadata": {},
   "outputs": [
    {
     "data": {
      "text/plain": [
       "(621, 1, 1)"
      ]
     },
     "execution_count": 23,
     "metadata": {},
     "output_type": "execute_result"
    }
   ],
   "source": [
    "X_train.shape"
   ]
  },
  {
   "cell_type": "code",
   "execution_count": 24,
   "metadata": {},
   "outputs": [
    {
     "data": {
      "text/plain": [
       "(47, 1)"
      ]
     },
     "execution_count": 24,
     "metadata": {},
     "output_type": "execute_result"
    }
   ],
   "source": [
    "\n",
    "# pre-processing the data \n",
    "dataset_total = pd.concat((data[\"close\"][:'2024-03-01'],data[\"close\"]['2024-03-01':]),axis=0)\n",
    "inputs = dataset_total[len(dataset_total)-len(test_set) - 500:].values\n",
    "inputs = inputs.reshape(-1,1)\n",
    "\n",
    "\n",
    "# making the test data\n",
    "X_test = []\n",
    "for i in range(500,len(inputs)):\n",
    "  X_test.append(inputs[i-1:i,0])\n",
    "\n",
    "X_test_no_shape = np.array(X_test)\n",
    "X_test = np.reshape(X_test_no_shape, (X_test_no_shape.shape[0],X_test_no_shape.shape[1],1))\n",
    "\n",
    "\n",
    "\n",
    "\n",
    "test_set.shape"
   ]
  },
  {
   "cell_type": "code",
   "execution_count": 25,
   "metadata": {},
   "outputs": [],
   "source": [
    "def mae(y_predicted, y_true):\n",
    "    total_error = 0\n",
    "    for yp, yt in zip(y_predicted, y_true):\n",
    "        total_error += abs(yp - yt)\n",
    "    \n",
    "    mae = total_error/len(y_predicted)\n",
    "    \n",
    "    return mae"
   ]
  },
  {
   "cell_type": "markdown",
   "metadata": {},
   "source": [
    "Best h-params : DROP [0.3,0.1,0.1,0.1] UNITS[32,32,64,32]"
   ]
  },
  {
   "cell_type": "code",
   "execution_count": 26,
   "metadata": {},
   "outputs": [
    {
     "name": "stdout",
     "output_type": "stream",
     "text": [
      "Epoch 1/100\n",
      "10/10 [==============================] - 3s 7ms/step - loss: 65166.6094 - mae: 247.9878 - rmse: 255.2775 - mse: 65166.6094\n",
      "Epoch 2/100\n",
      "10/10 [==============================] - 0s 5ms/step - loss: 64207.1250 - mae: 246.0414 - rmse: 253.3913 - mse: 64207.1250\n",
      "Epoch 3/100\n",
      "10/10 [==============================] - 0s 6ms/step - loss: 59242.3516 - mae: 235.6507 - rmse: 243.3975 - mse: 59242.3516\n",
      "Epoch 4/100\n",
      "10/10 [==============================] - 0s 6ms/step - loss: 45053.7305 - mae: 202.6985 - rmse: 212.2586 - mse: 45053.7305\n",
      "Epoch 5/100\n",
      "10/10 [==============================] - 0s 7ms/step - loss: 24629.1270 - mae: 143.0475 - rmse: 156.9367 - mse: 24629.1270\n",
      "Epoch 6/100\n",
      "10/10 [==============================] - 0s 7ms/step - loss: 9206.0527 - mae: 77.4395 - rmse: 95.9482 - mse: 9206.0527\n",
      "Epoch 7/100\n",
      "10/10 [==============================] - 0s 6ms/step - loss: 4938.3970 - mae: 55.9960 - rmse: 70.2737 - mse: 4938.3970\n",
      "Epoch 8/100\n",
      "10/10 [==============================] - 0s 6ms/step - loss: 5255.8228 - mae: 58.2600 - rmse: 72.4971 - mse: 5255.8228\n",
      "Epoch 9/100\n",
      "10/10 [==============================] - 0s 6ms/step - loss: 4868.7061 - mae: 55.7192 - rmse: 69.7761 - mse: 4868.7061\n",
      "Epoch 10/100\n",
      "10/10 [==============================] - 0s 5ms/step - loss: 5102.7129 - mae: 56.5455 - rmse: 71.4333 - mse: 5102.7129\n",
      "Epoch 11/100\n",
      "10/10 [==============================] - 0s 6ms/step - loss: 5027.0718 - mae: 56.8335 - rmse: 70.9018 - mse: 5027.0718\n",
      "Epoch 12/100\n",
      "10/10 [==============================] - 0s 6ms/step - loss: 4434.9219 - mae: 53.2695 - rmse: 66.5952 - mse: 4434.9219\n",
      "Epoch 13/100\n",
      "10/10 [==============================] - 0s 7ms/step - loss: 4440.3706 - mae: 52.1603 - rmse: 66.6361 - mse: 4440.3706\n",
      "Epoch 14/100\n",
      "10/10 [==============================] - 0s 7ms/step - loss: 4630.7559 - mae: 53.5555 - rmse: 68.0497 - mse: 4630.7559\n",
      "Epoch 15/100\n",
      "10/10 [==============================] - 0s 6ms/step - loss: 4587.5449 - mae: 53.8612 - rmse: 67.7314 - mse: 4587.5449\n",
      "Epoch 16/100\n",
      "10/10 [==============================] - 0s 6ms/step - loss: 4641.0693 - mae: 54.1701 - rmse: 68.1254 - mse: 4641.0693\n",
      "Epoch 17/100\n",
      "10/10 [==============================] - 0s 5ms/step - loss: 4879.2432 - mae: 56.5116 - rmse: 69.8516 - mse: 4879.2432\n",
      "Epoch 18/100\n",
      "10/10 [==============================] - 0s 6ms/step - loss: 4545.2598 - mae: 54.3957 - rmse: 67.4185 - mse: 4545.2598\n",
      "Epoch 19/100\n",
      "10/10 [==============================] - 0s 6ms/step - loss: 4606.3794 - mae: 54.4510 - rmse: 67.8703 - mse: 4606.3794\n",
      "Epoch 20/100\n",
      "10/10 [==============================] - 0s 7ms/step - loss: 4804.4253 - mae: 55.0384 - rmse: 69.3140 - mse: 4804.4253\n",
      "Epoch 21/100\n",
      "10/10 [==============================] - 0s 6ms/step - loss: 4782.3013 - mae: 54.7630 - rmse: 69.1542 - mse: 4782.3013\n",
      "Epoch 22/100\n",
      "10/10 [==============================] - 0s 6ms/step - loss: 4433.7666 - mae: 52.0907 - rmse: 66.5865 - mse: 4433.7666\n",
      "Epoch 23/100\n",
      "10/10 [==============================] - 0s 6ms/step - loss: 3911.9065 - mae: 49.2682 - rmse: 62.5452 - mse: 3911.9065\n",
      "Epoch 24/100\n",
      "10/10 [==============================] - 0s 7ms/step - loss: 3357.2815 - mae: 44.2292 - rmse: 57.9421 - mse: 3357.2815\n",
      "Epoch 25/100\n",
      "10/10 [==============================] - 0s 6ms/step - loss: 3097.1211 - mae: 44.6510 - rmse: 55.6518 - mse: 3097.1211\n",
      "Epoch 26/100\n",
      "10/10 [==============================] - 0s 7ms/step - loss: 2892.6646 - mae: 42.8017 - rmse: 53.7835 - mse: 2892.6646\n",
      "Epoch 27/100\n",
      "10/10 [==============================] - 0s 7ms/step - loss: 2970.8450 - mae: 43.3507 - rmse: 54.5055 - mse: 2970.8450\n",
      "Epoch 28/100\n",
      "10/10 [==============================] - 0s 7ms/step - loss: 2587.0833 - mae: 39.9333 - rmse: 50.8634 - mse: 2587.0833\n",
      "Epoch 29/100\n",
      "10/10 [==============================] - 0s 6ms/step - loss: 2306.7949 - mae: 38.3081 - rmse: 48.0291 - mse: 2306.7949\n",
      "Epoch 30/100\n",
      "10/10 [==============================] - 0s 7ms/step - loss: 1954.7395 - mae: 34.5019 - rmse: 44.2124 - mse: 1954.7395\n",
      "Epoch 31/100\n",
      "10/10 [==============================] - 0s 6ms/step - loss: 1944.5093 - mae: 35.0159 - rmse: 44.0966 - mse: 1944.5093\n",
      "Epoch 32/100\n",
      "10/10 [==============================] - 0s 6ms/step - loss: 2009.3638 - mae: 34.3106 - rmse: 44.8259 - mse: 2009.3638\n",
      "Epoch 33/100\n",
      "10/10 [==============================] - 0s 6ms/step - loss: 2058.0073 - mae: 36.5615 - rmse: 45.3653 - mse: 2058.0073\n",
      "Epoch 34/100\n",
      "10/10 [==============================] - 0s 6ms/step - loss: 1814.7262 - mae: 33.0891 - rmse: 42.5996 - mse: 1814.7262\n",
      "Epoch 35/100\n",
      "10/10 [==============================] - 0s 7ms/step - loss: 1561.2152 - mae: 30.1483 - rmse: 39.5122 - mse: 1561.2152\n",
      "Epoch 36/100\n",
      "10/10 [==============================] - 0s 6ms/step - loss: 1584.1929 - mae: 31.5271 - rmse: 39.8019 - mse: 1584.1929\n",
      "Epoch 37/100\n",
      "10/10 [==============================] - 0s 6ms/step - loss: 1748.7673 - mae: 33.0502 - rmse: 41.8183 - mse: 1748.7673\n",
      "Epoch 38/100\n",
      "10/10 [==============================] - 0s 5ms/step - loss: 1680.0747 - mae: 31.9656 - rmse: 40.9887 - mse: 1680.0747\n",
      "Epoch 39/100\n",
      "10/10 [==============================] - 0s 6ms/step - loss: 1489.1123 - mae: 30.1419 - rmse: 38.5890 - mse: 1489.1123\n",
      "Epoch 40/100\n",
      "10/10 [==============================] - 0s 5ms/step - loss: 1560.3214 - mae: 30.4846 - rmse: 39.5009 - mse: 1560.3214\n",
      "Epoch 41/100\n",
      "10/10 [==============================] - 0s 6ms/step - loss: 1444.7411 - mae: 30.2965 - rmse: 38.0098 - mse: 1444.7411\n",
      "Epoch 42/100\n",
      "10/10 [==============================] - 0s 6ms/step - loss: 1533.8242 - mae: 30.7687 - rmse: 39.1641 - mse: 1533.8242\n",
      "Epoch 43/100\n",
      "10/10 [==============================] - 0s 6ms/step - loss: 1560.9146 - mae: 30.8444 - rmse: 39.5084 - mse: 1560.9146\n",
      "Epoch 44/100\n",
      "10/10 [==============================] - 0s 6ms/step - loss: 1562.1167 - mae: 31.2206 - rmse: 39.5236 - mse: 1562.1167\n",
      "Epoch 45/100\n",
      "10/10 [==============================] - 0s 6ms/step - loss: 1472.4917 - mae: 29.7312 - rmse: 38.3731 - mse: 1472.4917\n",
      "Epoch 46/100\n",
      "10/10 [==============================] - 0s 5ms/step - loss: 1656.9158 - mae: 31.6133 - rmse: 40.7052 - mse: 1656.9158\n",
      "Epoch 47/100\n",
      "10/10 [==============================] - 0s 5ms/step - loss: 1336.5919 - mae: 28.3797 - rmse: 36.5594 - mse: 1336.5919\n",
      "Epoch 48/100\n",
      "10/10 [==============================] - 0s 5ms/step - loss: 1420.2699 - mae: 29.4266 - rmse: 37.6865 - mse: 1420.2699\n",
      "Epoch 49/100\n",
      "10/10 [==============================] - 0s 5ms/step - loss: 1885.1362 - mae: 34.4478 - rmse: 43.4182 - mse: 1885.1362\n",
      "Epoch 50/100\n",
      "10/10 [==============================] - 0s 5ms/step - loss: 1691.0872 - mae: 32.1789 - rmse: 41.1228 - mse: 1691.0872\n",
      "Epoch 51/100\n",
      "10/10 [==============================] - 0s 5ms/step - loss: 1429.1702 - mae: 29.5631 - rmse: 37.8044 - mse: 1429.1702\n",
      "Epoch 52/100\n",
      "10/10 [==============================] - 0s 5ms/step - loss: 1376.2548 - mae: 29.1524 - rmse: 37.0979 - mse: 1376.2548\n",
      "Epoch 53/100\n",
      "10/10 [==============================] - 0s 5ms/step - loss: 1504.5382 - mae: 30.1635 - rmse: 38.7884 - mse: 1504.5382\n",
      "Epoch 54/100\n",
      "10/10 [==============================] - 0s 5ms/step - loss: 1375.2267 - mae: 28.3724 - rmse: 37.0840 - mse: 1375.2267\n",
      "Epoch 55/100\n",
      "10/10 [==============================] - 0s 5ms/step - loss: 1325.4968 - mae: 28.4089 - rmse: 36.4074 - mse: 1325.4968\n",
      "Epoch 56/100\n",
      "10/10 [==============================] - 0s 5ms/step - loss: 1520.0444 - mae: 30.4300 - rmse: 38.9877 - mse: 1520.0444\n",
      "Epoch 57/100\n",
      "10/10 [==============================] - 0s 5ms/step - loss: 1512.6125 - mae: 30.4369 - rmse: 38.8923 - mse: 1512.6125\n",
      "Epoch 58/100\n",
      "10/10 [==============================] - 0s 6ms/step - loss: 1516.5532 - mae: 29.4965 - rmse: 38.9429 - mse: 1516.5532\n",
      "Epoch 59/100\n",
      "10/10 [==============================] - 0s 7ms/step - loss: 1254.4160 - mae: 27.9157 - rmse: 35.4177 - mse: 1254.4160\n",
      "Epoch 60/100\n",
      "10/10 [==============================] - 0s 6ms/step - loss: 1296.8788 - mae: 27.6415 - rmse: 36.0122 - mse: 1296.8788\n",
      "Epoch 61/100\n",
      "10/10 [==============================] - 0s 6ms/step - loss: 1255.2925 - mae: 28.2202 - rmse: 35.4301 - mse: 1255.2925\n",
      "Epoch 62/100\n",
      "10/10 [==============================] - 0s 6ms/step - loss: 1386.8212 - mae: 28.9885 - rmse: 37.2400 - mse: 1386.8212\n",
      "Epoch 63/100\n",
      "10/10 [==============================] - 0s 5ms/step - loss: 1318.9395 - mae: 28.6698 - rmse: 36.3172 - mse: 1318.9395\n",
      "Epoch 64/100\n",
      "10/10 [==============================] - 0s 6ms/step - loss: 1238.9253 - mae: 27.4443 - rmse: 35.1984 - mse: 1238.9253\n",
      "Epoch 65/100\n",
      "10/10 [==============================] - 0s 5ms/step - loss: 1108.8553 - mae: 26.1091 - rmse: 33.2995 - mse: 1108.8553\n",
      "Epoch 66/100\n",
      "10/10 [==============================] - 0s 5ms/step - loss: 1147.5820 - mae: 26.6955 - rmse: 33.8760 - mse: 1147.5820\n",
      "Epoch 67/100\n",
      "10/10 [==============================] - 0s 7ms/step - loss: 1245.4888 - mae: 27.6173 - rmse: 35.2915 - mse: 1245.4888\n",
      "Epoch 68/100\n",
      "10/10 [==============================] - 0s 5ms/step - loss: 1209.1261 - mae: 27.1404 - rmse: 34.7725 - mse: 1209.1261\n",
      "Epoch 69/100\n",
      "10/10 [==============================] - 0s 6ms/step - loss: 1383.1066 - mae: 29.4973 - rmse: 37.1901 - mse: 1383.1066\n",
      "Epoch 70/100\n",
      "10/10 [==============================] - 0s 6ms/step - loss: 1324.0765 - mae: 28.1408 - rmse: 36.3879 - mse: 1324.0765\n",
      "Epoch 71/100\n",
      "10/10 [==============================] - 0s 6ms/step - loss: 1318.2059 - mae: 27.9896 - rmse: 36.3071 - mse: 1318.2059\n",
      "Epoch 72/100\n",
      "10/10 [==============================] - 0s 7ms/step - loss: 1176.7993 - mae: 27.0187 - rmse: 34.3045 - mse: 1176.7993\n",
      "Epoch 73/100\n",
      "10/10 [==============================] - 0s 6ms/step - loss: 1363.5352 - mae: 28.8662 - rmse: 36.9261 - mse: 1363.5352\n",
      "Epoch 74/100\n",
      "10/10 [==============================] - 0s 6ms/step - loss: 1446.5322 - mae: 30.0278 - rmse: 38.0333 - mse: 1446.5322\n",
      "Epoch 75/100\n",
      "10/10 [==============================] - 0s 7ms/step - loss: 1581.6559 - mae: 31.3030 - rmse: 39.7700 - mse: 1581.6559\n",
      "2/2 [==============================] - 1s 4ms/step - loss: 123.3191 - mae: 10.4719 - rmse: 11.1049 - mse: 123.3191\n"
     ]
    }
   ],
   "source": [
    "model = Sequential()\n",
    "\n",
    "model.add(LSTM(units=128, return_sequences=True, input_shape=(X_train.shape[1],1)))\n",
    "model.add(Dropout(0.2))\n",
    "\n",
    "model.add(LSTM(units=128,return_sequences=True))\n",
    "model.add(Dropout(0.2))\n",
    "\n",
    "model.add(LSTM(units=64))\n",
    "model.add(Dropout(0.2))\n",
    "\n",
    "model.add(Dense(units=64))\n",
    "model.add(Dropout(0.2))\n",
    "\n",
    "model.add(Dense(units=42))\n",
    "model.add(Dropout(0.2))\n",
    "\n",
    "model.add(Dense(units=1))\n",
    "\n",
    "\n",
    "METRICS = [\n",
    "    keras.metrics.MeanAbsoluteError(name='mae'),\n",
    "    tf.keras.metrics.RootMeanSquaredError(name='rmse'),\n",
    "    keras.metrics.MeanSquaredError(name='mse'),\n",
    "]\n",
    "                        \n",
    "model.compile(loss='mean_squared_error',optimizer=tf.keras.optimizers.Adam(learning_rate=0.001),metrics=METRICS)\n",
    "\n",
    "tf.random.set_seed(21)\n",
    "\n",
    "logdir = \"logs/scalars/\" + datetime.now().strftime(\"%Y%m%d-%H%M%S\")+\"no_feature_and_scaler\"\n",
    "tensorboard_callback = keras.callbacks.TensorBoard(log_dir=logdir)\n",
    "\n",
    "\n",
    "callback = keras.callbacks.EarlyStopping(\n",
    "    monitor='loss',\n",
    "    patience=10,\n",
    "    restore_best_weights=True)\n",
    "\n",
    "model.fit(X_train, y_train, epochs=100,batch_size=64,callbacks=[callback,tensorboard_callback]) \n",
    "loss = model.evaluate(X_test, test_set)"
   ]
  },
  {
   "cell_type": "code",
   "execution_count": 27,
   "metadata": {},
   "outputs": [
    {
     "name": "stdout",
     "output_type": "stream",
     "text": [
      "2/2 [==============================] - 1s 4ms/step\n"
     ]
    }
   ],
   "source": [
    "predicted_stock_price = model.predict(X_test)\n",
    "\n"
   ]
  },
  {
   "cell_type": "code",
   "execution_count": 28,
   "metadata": {},
   "outputs": [
    {
     "name": "stdout",
     "output_type": "stream",
     "text": [
      "MSE: 123.31906367156239\n",
      "MRSE: 10.471949475876828\n",
      "R^2: 0.25490192553308766\n",
      "MAE10.471949475876828\n"
     ]
    }
   ],
   "source": [
    "from sklearn.metrics import mean_squared_error,mean_absolute_error,r2_score\n",
    "\n",
    "print(f\"MSE: {mean_squared_error(test_set,predicted_stock_price)}\")\n",
    "print(f\"MRSE: {mean_absolute_error(test_set,predicted_stock_price)}\")\n",
    "print(f\"R^2: {r2_score(test_set,predicted_stock_price)}\")\n",
    "print(f\"MAE{mean_absolute_error(test_set,predicted_stock_price)}\")"
   ]
  },
  {
   "cell_type": "code",
   "execution_count": 29,
   "metadata": {},
   "outputs": [
    {
     "data": {
      "image/png": "[encoded data removed]",
      "text/plain": [
       "<Figure size 640x480 with 1 Axes>"
      ]
     },
     "metadata": {},
     "output_type": "display_data"
    }
   ],
   "source": [
    "import matplotlib.pyplot as plt\n",
    "\n",
    "def plot_prediction(test,prediction):\n",
    "    plt.plot(test,color='red',label=\"Real Stock price\")\n",
    "    plt.plot(prediction, color=\"blue\",label=\"Predicted Stock price\")\n",
    "    plt.title(\"Stock Price Prediction\")\n",
    "    plt.xlabel(\"Time\")\n",
    "    plt.ylabel(\"Stock Price\")\n",
    "    plt.legend()\n",
    "    plt.show()\n",
    "\n",
    "\n",
    "plot_prediction(test_set,predicted_stock_price)"
   ]
  },
  {
   "cell_type": "code",
   "execution_count": 30,
   "metadata": {},
   "outputs": [
    {
     "name": "stdout",
     "output_type": "stream",
     "text": [
      "[[208.58852]\n",
      " [208.58852]\n",
      " [209.30592]\n",
      " [195.97371]\n",
      " [189.41153]\n",
      " [185.73769]\n",
      " [187.5796 ]\n",
      " [184.69305]\n",
      " [186.81055]\n",
      " [186.60974]\n",
      " [179.61406]\n",
      " [173.58455]\n",
      " [174.50908]\n",
      " [183.35513]\n",
      " [181.20572]\n",
      " [184.97145]\n",
      " [182.50508]\n",
      " [180.78163]\n",
      " [182.34038]\n",
      " [186.72325]\n",
      " [188.61288]\n",
      " [185.08456]\n",
      " [184.58871]\n",
      " [177.15178]\n",
      " [178.6634 ]\n",
      " [181.02393]\n",
      " [175.6578 ]\n",
      " [182.6438 ]\n",
      " [186.03401]\n",
      " [181.58664]\n",
      " [184.0498 ]\n",
      " [180.972  ]\n",
      " [172.70277]\n",
      " [168.91672]\n",
      " [167.47356]\n",
      " [162.64574]\n",
      " [160.10486]\n",
      " [155.64923]\n",
      " [158.0004 ]\n",
      " [173.26476]\n",
      " [180.21933]\n",
      " [178.58563]\n",
      " [201.32182]\n",
      " [191.64948]\n",
      " [188.7532 ]\n",
      " [188.77074]\n",
      " [189.80702]]\n"
     ]
    }
   ],
   "source": [
    "print(predicted_stock_price)"
   ]
  }
 ],
 "metadata": {
  "kernelspec": {
   "display_name": "Python 3",
   "language": "python",
   "name": "python3"
  },
  "language_info": {
   "codemirror_mode": {
    "name": "ipython",
    "version": 3
   },
   "file_extension": ".py",
   "mimetype": "text/x-python",
   "name": "python",
   "nbconvert_exporter": "python",
   "pygments_lexer": "ipython3",
   "version": "3.10.6"
  }
 },
 "nbformat": 4,
 "nbformat_minor": 2
}
